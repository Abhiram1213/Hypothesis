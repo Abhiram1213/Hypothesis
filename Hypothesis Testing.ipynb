{
 "cells": [
  {
   "cell_type": "code",
   "execution_count": 1,
   "id": "8da83c37",
   "metadata": {},
   "outputs": [
    {
     "name": "stdout",
     "output_type": "stream",
     "text": [
      "There is not enough evidence to conclude that the average time working mothers spend talking to their children is less than 11 minutes per day.\n"
     ]
    }
   ],
   "source": [
    "import scipy.stats as stats\n",
    "\n",
    "# Given data\n",
    "sample_mean = 11.5\n",
    "population_stddev = 2.3\n",
    "sample_size = 1000\n",
    "population_mean = 11 \n",
    "\n",
    "# Calculate the standard error of the mean (SEM)\n",
    "sem = population_stddev / (sample_size ** 0.5)\n",
    "\n",
    "# Calculate the Z-statistic\n",
    "z_statistic = (sample_mean - population_mean) / sem\n",
    "\n",
    "#given Alpha\n",
    "alpha = 0.05\n",
    "critical_value = stats.norm.ppf(alpha)\n",
    "\n",
    "# Perform the hypothesis test\n",
    "if z_statistic < critical_value:\n",
    "    conclusion = \"Reject the null hypothesis.\"\n",
    "else:\n",
    "    conclusion = \"Fail to reject the null hypothesis.\"\n",
    "\n",
    "# Explanation\n",
    "if conclusion == \"Reject the null hypothesis.\":\n",
    "    explanation = \"There is enough evidence to conclude that the average time working mothers spend talking to their children is less than 11 minutes per day.\"\n",
    "else:\n",
    "    explanation = \"There is not enough evidence to conclude that the average time working mothers spend talking to their children is less than 11 minutes per day.\"\n",
    "\n",
    "print(explanation)\n"
   ]
  },
  {
   "cell_type": "code",
   "execution_count": 3,
   "id": "ab9b5e8e",
   "metadata": {},
   "outputs": [
    {
     "name": "stdout",
     "output_type": "stream",
     "text": [
      "There is enough evidence to conclude that the average wait time for customers at the coffee shop is less than 5 minutes.\n"
     ]
    }
   ],
   "source": [
    "# Given data \n",
    "sample_mean_2 = 4.6\n",
    "sample_stddev_2 = 0.8\n",
    "sample_size_2 = 40\n",
    "population_mean_2 = 5  \n",
    "\n",
    "sem_2 = sample_stddev_2 / (sample_size_2 ** 0.5)\n",
    "\n",
    "# Calculate the t-statistic\n",
    "t_statistic = (sample_mean_2 - population_mean_2) / sem_2\n",
    "\n",
    "# α = 0.05\n",
    "degrees_of_freedom = sample_size_2 - 1\n",
    "critical_value_2 = stats.t.ppf(alpha, df=degrees_of_freedom)\n",
    "\n",
    "# Perform the hypothesis test\n",
    "if t_statistic < critical_value_2:\n",
    "    conclusion_2 = \"Reject the null hypothesis.\"\n",
    "else:\n",
    "    conclusion_2 = \"Fail to reject the null hypothesis.\"\n",
    "\n",
    "# Explanation\n",
    "if conclusion_2 == \"Reject the null hypothesis.\":\n",
    "    explanation_2 = \"There is enough evidence to conclude that the average wait time for customers at the coffee shop is less than 5 minutes.\"\n",
    "else:\n",
    "    explanation_2 = \"There is not enough evidence to conclude that the average wait time for customers at the coffee shop is less than 5 minutes.\"\n",
    "\n",
    "print(explanation_2)\n"
   ]
  },
  {
   "cell_type": "code",
   "execution_count": null,
   "id": "910aae49",
   "metadata": {},
   "outputs": [],
   "source": []
  }
 ],
 "metadata": {
  "kernelspec": {
   "display_name": "Python 3 (ipykernel)",
   "language": "python",
   "name": "python3"
  },
  "language_info": {
   "codemirror_mode": {
    "name": "ipython",
    "version": 3
   },
   "file_extension": ".py",
   "mimetype": "text/x-python",
   "name": "python",
   "nbconvert_exporter": "python",
   "pygments_lexer": "ipython3",
   "version": "3.9.13"
  }
 },
 "nbformat": 4,
 "nbformat_minor": 5
}
